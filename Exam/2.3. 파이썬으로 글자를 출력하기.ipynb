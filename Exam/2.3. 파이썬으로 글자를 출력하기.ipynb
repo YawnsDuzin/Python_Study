{
 "cells": [
  {
   "cell_type": "markdown",
   "id": "1148d67b",
   "metadata": {},
   "source": [
    "##### 파이썬과 같은 프로그래밍 언어에서는 글자를 문자열(string)이라고 부른다. \n",
    "파이썬에서 문자열을 만들 때는 따옴표를 사용한다. \n",
    "따옴표에는 큰 따옴표와 작은 따옴표가 있으며 시작 따옴표와 종료 따옴표만 같으면 어느 것을 사용해도 상관없다.\n",
    "\n",
    "\n",
    "문자열을 출력하려면 print 명령을 사용한다."
   ]
  },
  {
   "cell_type": "code",
   "execution_count": 1,
   "id": "81704911",
   "metadata": {},
   "outputs": [
    {
     "name": "stdout",
     "output_type": "stream",
     "text": [
      "Hello\n"
     ]
    }
   ],
   "source": [
    "print(\"Hello\")"
   ]
  },
  {
   "cell_type": "code",
   "execution_count": 2,
   "id": "8ed1db20",
   "metadata": {},
   "outputs": [
    {
     "name": "stdout",
     "output_type": "stream",
     "text": [
      "한글도 쓸수 있어요.\n"
     ]
    }
   ],
   "source": [
    "print('한글도 쓸수 있어요.')"
   ]
  },
  {
   "cell_type": "markdown",
   "id": "c325b368",
   "metadata": {},
   "source": [
    "# 문자열 연산"
   ]
  },
  {
   "cell_type": "markdown",
   "id": "f6205d92",
   "metadata": {},
   "source": [
    "##### 문자열도 숫자처럼 덧셈과 곱셈 연산을 할 수 있다. 덧셈 연산은 두 문자열을 붙이고 곱셈 연산은 문자열을 반복한다."
   ]
  },
  {
   "cell_type": "code",
   "execution_count": 4,
   "id": "0f01065e",
   "metadata": {},
   "outputs": [
    {
     "name": "stdout",
     "output_type": "stream",
     "text": [
      "내 이름은 홍길동입니다.\n"
     ]
    }
   ],
   "source": [
    "print(\"내 이름은 \" + \"홍길동\" + \"입니다.\")"
   ]
  },
  {
   "cell_type": "code",
   "execution_count": 5,
   "id": "67f6ad2e",
   "metadata": {},
   "outputs": [
    {
     "name": "stdout",
     "output_type": "stream",
     "text": [
      "**********\n"
     ]
    }
   ],
   "source": [
    "print(\"*\" * 10)"
   ]
  },
  {
   "cell_type": "markdown",
   "id": "3544ee9e",
   "metadata": {},
   "source": [
    "# 숫자를 문자열로 바꾸기"
   ]
  },
  {
   "cell_type": "markdown",
   "id": "ef611359",
   "metadata": {},
   "source": [
    "##### 숫자를 문자열과 더하려면 str 명령을 써서 숫자를 문자열 자료형으로 바꾸어야 한다."
   ]
  },
  {
   "cell_type": "code",
   "execution_count": 7,
   "id": "7dab5586",
   "metadata": {},
   "outputs": [
    {
     "name": "stdout",
     "output_type": "stream",
     "text": [
      "별표를 10번 출력합니다.\n",
      "**********\n"
     ]
    }
   ],
   "source": [
    "n = 10\n",
    "print(\"별표를 \" + str(n) + \"번 출력합니다.\")\n",
    "print(\"*\" * n)"
   ]
  },
  {
   "cell_type": "markdown",
   "id": "5d52da29",
   "metadata": {},
   "source": [
    "# 한 줄 띄우기"
   ]
  },
  {
   "cell_type": "markdown",
   "id": "2db615c9",
   "metadata": {},
   "source": [
    "##### print 명령은 한 번 호출할 때마다 한 줄씩 출력한다. \n",
    "만약 print 명령을 한 번만 쓰면서 여러 줄에 걸쳐 출력을 하고 싶으면 \n",
    "문자열에 “다음 줄 넘기기(line feed) 기호”인 \\n를 넣어야 한다."
   ]
  },
  {
   "cell_type": "code",
   "execution_count": 9,
   "id": "46f3ee5c",
   "metadata": {},
   "outputs": [
    {
     "name": "stdout",
     "output_type": "stream",
     "text": [
      "한 줄 쓰고 \n",
      " 그 다음 줄을 쓴다\n"
     ]
    }
   ],
   "source": [
    "print(\"한 줄 쓰고 \\n 그 다음 줄을 쓴다\")"
   ]
  },
  {
   "cell_type": "markdown",
   "id": "2e1999d4",
   "metadata": {},
   "source": [
    "# 줄을 바꾸지 않고 이어서 출력하기"
   ]
  },
  {
   "cell_type": "markdown",
   "id": "a92dc26d",
   "metadata": {},
   "source": [
    "##### 반대로 print 명령을 여러번 쓰면서 줄은 바꾸지 않고 싶다면 다음과 같이 print 명령에 end=\"\"이라는 인수를 추가한다."
   ]
  },
  {
   "cell_type": "code",
   "execution_count": 10,
   "id": "3b3a99d3",
   "metadata": {},
   "outputs": [
    {
     "name": "stdout",
     "output_type": "stream",
     "text": [
      "한 줄 쓰고이어서 쓴다.\n"
     ]
    }
   ],
   "source": [
    "print(\"한 줄 쓰고\", end=\"\")\n",
    "print(\"이어서 쓴다.\")"
   ]
  },
  {
   "cell_type": "markdown",
   "id": "de1bd7c2",
   "metadata": {},
   "source": [
    "# 문자열 값을 가지는 변수"
   ]
  },
  {
   "cell_type": "markdown",
   "id": "dcbec1fe",
   "metadata": {},
   "source": [
    "##### 변수에는 숫자뿐만 아니라 문자열도 넣을 수 있다."
   ]
  },
  {
   "cell_type": "code",
   "execution_count": 11,
   "id": "2de4e682",
   "metadata": {},
   "outputs": [
    {
     "name": "stdout",
     "output_type": "stream",
     "text": [
      "내 이름은 홍길동입니다.\n"
     ]
    }
   ],
   "source": [
    "name = \"홍길동\"\n",
    "print(\"내 이름은 \" + name + \"입니다.\")"
   ]
  },
  {
   "cell_type": "code",
   "execution_count": 12,
   "id": "a827238e",
   "metadata": {},
   "outputs": [
    {
     "name": "stdout",
     "output_type": "stream",
     "text": [
      "$ 기호를 20 번 출력합니다.\n",
      "$$$$$$$$$$$$$$$$$$$$\n"
     ]
    }
   ],
   "source": [
    "mark = \"$\"\n",
    "n = 20\n",
    "print(mark + \" 기호를 \" + str(n) + \" 번 출력합니다.\")\n",
    "print(mark * n)"
   ]
  },
  {
   "cell_type": "markdown",
   "id": "c95946a7",
   "metadata": {},
   "source": [
    "# 따옴표를 출력하기"
   ]
  },
  {
   "cell_type": "markdown",
   "id": "adeb60cb",
   "metadata": {},
   "source": [
    "##### 파이썬에서 두 가지 종류의 다른 따옴표를 쓸 수 있는 이유는 문자열이 따옴표를 포함하는 경우가 있기 때문이다. 만약 따옴표로 둘러싸인 문자열에 따옴표가 포함되어 있다면 파이썬은 그 부분에서 문자열이 끝난다고 인식하여 오류가 발생한다. 이처럼 문자열 안에 큰따옴표가 있어야 할 때는 전체 문자열을 작은따옴표로 둘러싸면 된다."
   ]
  },
  {
   "cell_type": "code",
   "execution_count": 16,
   "id": "1ffb2290",
   "metadata": {},
   "outputs": [
    {
     "name": "stdout",
     "output_type": "stream",
     "text": [
      "둘리가 \"호이!\"하고 말했어요.\n"
     ]
    }
   ],
   "source": [
    "print('둘리가 \"호이!\"하고 말했어요.')"
   ]
  },
  {
   "cell_type": "code",
   "execution_count": 17,
   "id": "aab4e5d9",
   "metadata": {},
   "outputs": [
    {
     "name": "stdout",
     "output_type": "stream",
     "text": [
      "둘리가 '이제 어디로 가지?'하고 생각했어요.\n"
     ]
    }
   ],
   "source": [
    "# 반대로 문자열 안에 작은 따옴표가 있어야 할 때는 전체 문자열을 큰 따옴표로 둘러싼다.\n",
    "print(\"둘리가 '이제 어디로 가지?'하고 생각했어요.\")"
   ]
  },
  {
   "cell_type": "markdown",
   "id": "715e8bfa",
   "metadata": {},
   "source": [
    "# 여러 줄의 문자열 출력하기"
   ]
  },
  {
   "cell_type": "markdown",
   "id": "8496d302",
   "metadata": {},
   "source": [
    "##### 파이썬에서 여러 줄의 문자열을 출력하거나 변수에 할당하려면, \"문자\" 나 '문자' 대신 \"\"\" 여러 줄의 문자열 \"\"\" 혹은 '''여러 줄의 문자열''' 을 사용하면 된다."
   ]
  },
  {
   "cell_type": "code",
   "execution_count": 19,
   "id": "ba577e44",
   "metadata": {},
   "outputs": [
    {
     "name": "stdout",
     "output_type": "stream",
     "text": [
      "\n",
      "파이썬(영어: Python)은 1991년 프로그래머인 \n",
      "귀도 반 로섬(Guido van Rossum)이 발표한 고급 프로그래밍 언어로,\n",
      "플랫폼 독립적이며 인터프리터식, 객체지향적, 동적 타이핑(dynamically typed) \n",
      "대화형 언어이다. 파이썬이라는 이름은 귀도가 좋아하는 코미디 〈Monty Python's Flying \n",
      "Circus〉에서 따온 것이다.\n"
     ]
    }
   ],
   "source": [
    "multi_line_string = \"\"\"\n",
    "파이썬(영어: Python)은 1991년 프로그래머인 \n",
    "귀도 반 로섬(Guido van Rossum)이 발표한 고급 프로그래밍 언어로,\n",
    "플랫폼 독립적이며 인터프리터식, 객체지향적, 동적 타이핑(dynamically typed) \n",
    "대화형 언어이다. 파이썬이라는 이름은 귀도가 좋아하는 코미디 〈Monty Python's Flying \n",
    "Circus〉에서 따온 것이다.\"\"\"\n",
    "\n",
    "print(multi_line_string)"
   ]
  },
  {
   "cell_type": "markdown",
   "id": "c77cfcf0",
   "metadata": {},
   "source": [
    "# 문자열 치환"
   ]
  },
  {
   "cell_type": "markdown",
   "id": "b9939111",
   "metadata": {},
   "source": [
    "##### 문자열에서 특정 문자를 다른 문자로 바꾸려면 replace 메서드를 사용한다."
   ]
  },
  {
   "cell_type": "code",
   "execution_count": 21,
   "id": "ff74990d",
   "metadata": {},
   "outputs": [
    {
     "data": {
      "text/plain": [
       "'2020-10-23'"
      ]
     },
     "execution_count": 21,
     "metadata": {},
     "output_type": "execute_result"
    }
   ],
   "source": [
    "\"2020.10.23\".replace(\".\", \"-\")"
   ]
  },
  {
   "cell_type": "code",
   "execution_count": 23,
   "id": "7a4415a9",
   "metadata": {},
   "outputs": [
    {
     "data": {
      "text/plain": [
       "'wordwithspace'"
      ]
     },
     "execution_count": 23,
     "metadata": {},
     "output_type": "execute_result"
    }
   ],
   "source": [
    "# 문자열의 공백을 없애려면 \" \" 공백 문자열을 \"\" 빈 문자열로 바꾸면 된다.\n",
    "\"word with space\".replace(\" \", \"\")"
   ]
  },
  {
   "cell_type": "code",
   "execution_count": null,
   "id": "8c8b4d67",
   "metadata": {},
   "outputs": [],
   "source": []
  }
 ],
 "metadata": {
  "kernelspec": {
   "display_name": "Python 3 (ipykernel)",
   "language": "python",
   "name": "python3"
  },
  "language_info": {
   "codemirror_mode": {
    "name": "ipython",
    "version": 3
   },
   "file_extension": ".py",
   "mimetype": "text/x-python",
   "name": "python",
   "nbconvert_exporter": "python",
   "pygments_lexer": "ipython3",
   "version": "3.9.7"
  }
 },
 "nbformat": 4,
 "nbformat_minor": 5
}
