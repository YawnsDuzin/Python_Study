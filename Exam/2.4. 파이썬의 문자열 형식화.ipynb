{
 "cells": [
  {
   "cell_type": "markdown",
   "id": "26f5ee26",
   "metadata": {},
   "source": [
    "##### 파이썬에서는 복잡한 문자열 출력을 위한 문자열 형식화(string formatting)를 지원한다. 문자열을 형식화하는 방법에는 % 기호를 사용한 방식과 format 메서드를 사용한 방식, 그리고 f 문자열을 사용하는 방식이 있다."
   ]
  },
  {
   "cell_type": "markdown",
   "id": "26533d9c",
   "metadata": {},
   "source": [
    "# % 기호를 사용한 문자열 형식화¶"
   ]
  },
  {
   "cell_type": "markdown",
   "id": "731cff0a",
   "metadata": {},
   "source": [
    "##### 문자열 뒤에 % 기호를 붙이고 그 뒤에 다른 값을 붙이면 뒤에 붙은 값이 문자열 안으로 들어간다."
   ]
  },
  {
   "cell_type": "markdown",
   "id": "5a46986e",
   "metadata": {},
   "source": [
    "##### 이 때 문자열의 어느 위치에 값이 들어가는지를 표시하기 위해 문자열 안에 % 기호로 시작하는 형식지정 문자열(format specification string)을 붙인다. 대표적인 형식지정 문자열은 다음과 같다."
   ]
  },
  {
   "cell_type": "markdown",
   "id": "5ac91325",
   "metadata": {},
   "source": [
    "##### %s     => 문자열\n",
    "##### %d     => 정수\n",
    "##### %f      => 부동소수점 실수"
   ]
  },
  {
   "cell_type": "code",
   "execution_count": 1,
   "id": "7b91e826",
   "metadata": {},
   "outputs": [
    {
     "data": {
      "text/plain": [
       "'내 이름은 홍길동 입니다.'"
      ]
     },
     "execution_count": 1,
     "metadata": {},
     "output_type": "execute_result"
    }
   ],
   "source": [
    "# 다음은 % 기호를 사용한 문자열 형식의 예이다.\n",
    "\"내 이름은 %s 입니다.\" % \"홍길동\""
   ]
  },
  {
   "cell_type": "code",
   "execution_count": 2,
   "id": "f4040d02",
   "metadata": {},
   "outputs": [
    {
     "data": {
      "text/plain": [
       "'나는 12살 입니다.'"
      ]
     },
     "execution_count": 2,
     "metadata": {},
     "output_type": "execute_result"
    }
   ],
   "source": [
    "\"나는 %d살 입니다.\" % 12"
   ]
  },
  {
   "cell_type": "code",
   "execution_count": 3,
   "id": "fcb34451",
   "metadata": {},
   "outputs": [
    {
     "data": {
      "text/plain": [
       "'원주율의 값은 3.141592 입니다.'"
      ]
     },
     "execution_count": 3,
     "metadata": {},
     "output_type": "execute_result"
    }
   ],
   "source": [
    "\"원주율의 값은 %f 입니다.\" % 3.141592"
   ]
  },
  {
   "cell_type": "code",
   "execution_count": 5,
   "id": "ec546d39",
   "metadata": {},
   "outputs": [
    {
     "data": {
      "text/plain": [
       "'2 곱하기 3은 6입니다.'"
      ]
     },
     "execution_count": 5,
     "metadata": {},
     "output_type": "execute_result"
    }
   ],
   "source": [
    "# 만약 여러개의 값을 문자열 안에 넣어야 한다면 % 기호 뒤에 있는 값을 소괄호로 감싸야 한다.\n",
    "\"%d 곱하기 %d은 %d입니다.\" % (2, 3, 6)"
   ]
  },
  {
   "cell_type": "code",
   "execution_count": 7,
   "id": "52f89751",
   "metadata": {},
   "outputs": [
    {
     "data": {
      "text/plain": [
       "'철수의 수학 과목 점수는 100점이다.'"
      ]
     },
     "execution_count": 7,
     "metadata": {},
     "output_type": "execute_result"
    }
   ],
   "source": [
    "\"%s의 %s 과목 점수는 %d점이다.\" % (\"철수\", \"수학\", 100)"
   ]
  },
  {
   "cell_type": "markdown",
   "id": "a89009f4",
   "metadata": {},
   "source": [
    "# 고급 형식지정 문자열"
   ]
  },
  {
   "cell_type": "markdown",
   "id": "11d8dc52",
   "metadata": {},
   "source": [
    "##### 형식지정 문자열은 여러가지 숫자 인수를 가질 수도 있다. % 기호 다음에 오는 정수는 값이 인쇄될 때 차지하는 공간의 길이를 뜻한다. 만약 공간의 길이가 인쇄될 값보다 크면 정수가 양수일 때는 값을 뒤로 보내고 공백을 앞에 채우거나 반대로 정수가 음수이면 값을 앞으로 보내고 공백을 뒤에 채운다. 만약 % 기호 다음에 소숫점이 있는 숫자가 오면 점 뒤의 숫자는 실수를 인쇄할 때 소숫점 아래로 그만큼의 숫자만 인쇄하라는 뜻이다."
   ]
  },
  {
   "cell_type": "markdown",
   "id": "f25c5833",
   "metadata": {},
   "source": [
    "##### %20s       => 전체 20칸을 차지하는 문자열 (공백을 앞에 붙인다.)\n",
    "##### %-10d     => 전체 10칸을 차지하는 숫자 (공백을 뒤에 붙인다.)\n",
    "##### %.5f        => 부동소수점의 소수점 아래 5자리까지 표시"
   ]
  },
  {
   "cell_type": "code",
   "execution_count": 8,
   "id": "9b4b73f0",
   "metadata": {},
   "outputs": [
    {
     "data": {
      "text/plain": [
       "'[                   *]'"
      ]
     },
     "execution_count": 8,
     "metadata": {},
     "output_type": "execute_result"
    }
   ],
   "source": [
    "\"[%20s]\" % \"*\"   # [와 ] 사이에 20칸의 공백이 있다."
   ]
  },
  {
   "cell_type": "code",
   "execution_count": 9,
   "id": "3d45d0c3",
   "metadata": {},
   "outputs": [
    {
     "data": {
      "text/plain": [
       "'[A                   ]'"
      ]
     },
     "execution_count": 9,
     "metadata": {},
     "output_type": "execute_result"
    }
   ],
   "source": [
    "\"[%-20s]\" % \"A\"   # 20칸의 공백의 앞쪽에 A를 인쇄한다."
   ]
  },
  {
   "cell_type": "code",
   "execution_count": 10,
   "id": "b552fbf2",
   "metadata": {},
   "outputs": [
    {
     "data": {
      "text/plain": [
       "'[                 123]'"
      ]
     },
     "execution_count": 10,
     "metadata": {},
     "output_type": "execute_result"
    }
   ],
   "source": [
    "\"[%20d]\" % 123   # 20칸의 공백의 뒷쪽에 123을 인쇄한다."
   ]
  },
  {
   "cell_type": "code",
   "execution_count": 12,
   "id": "1c7ae78c",
   "metadata": {},
   "outputs": [
    {
     "data": {
      "text/plain": [
       "'[-                 123]'"
      ]
     },
     "execution_count": 12,
     "metadata": {},
     "output_type": "execute_result"
    }
   ],
   "source": [
    "\"[-%20d]\" % 123   # 20칸의 공백의 앞쪽에 123을 인쇄한다."
   ]
  },
  {
   "cell_type": "code",
   "execution_count": 13,
   "id": "23d2add7",
   "metadata": {},
   "outputs": [
    {
     "data": {
      "text/plain": [
       "'0.33333'"
      ]
     },
     "execution_count": 13,
     "metadata": {},
     "output_type": "execute_result"
    }
   ],
   "source": [
    "x = 1 / 3.0   # x값은 0.33333333333333.....\n",
    "\"%.5f\" % x    # 소수점 아래 5자리까지만 인쇄한다."
   ]
  },
  {
   "cell_type": "code",
   "execution_count": 14,
   "id": "2d13bb0e",
   "metadata": {},
   "outputs": [
    {
     "data": {
      "text/plain": [
       "'[            0.333333]'"
      ]
     },
     "execution_count": 14,
     "metadata": {},
     "output_type": "execute_result"
    }
   ],
   "source": [
    "# 공백 크기와 소숫점 아래 자릿수를 같이 지정할 수도 있다.\n",
    "\"[%20.6f]\" % x   # 20칸의 공백의 앞쪽에 소수점 아래 6자리 출력"
   ]
  },
  {
   "cell_type": "markdown",
   "id": "7f109a60",
   "metadata": {},
   "source": [
    "# format 메서드를 사용한 문자열 형식화"
   ]
  },
  {
   "cell_type": "markdown",
   "id": "ebca4287",
   "metadata": {},
   "source": [
    "##### format 메서드를 사용하여 문자열을 형식화하는 방법도 있다. 이 때는 % 기호로 시작하는 형식지정 문자열 대신 {} 기호를 사용한다. 또한 자료형을 표시할 필요가 없다. 문자열 내에서 { 문자를 출력하고 싶을 때는 {{라는 글자를 사용한다."
   ]
  },
  {
   "cell_type": "code",
   "execution_count": 15,
   "id": "885fd43d",
   "metadata": {},
   "outputs": [
    {
     "data": {
      "text/plain": [
       "'내 이름은 홍길동 입니다.'"
      ]
     },
     "execution_count": 15,
     "metadata": {},
     "output_type": "execute_result"
    }
   ],
   "source": [
    "\"내 이름은 {} 입니다.\".format(\"홍길동\")"
   ]
  },
  {
   "cell_type": "code",
   "execution_count": 16,
   "id": "4cc86609",
   "metadata": {},
   "outputs": [
    {
     "data": {
      "text/plain": [
       "'내 이름은 {홍길동}입니다'"
      ]
     },
     "execution_count": 16,
     "metadata": {},
     "output_type": "execute_result"
    }
   ],
   "source": [
    "\"내 이름은 {{{}}}입니다\".format(\"홍길동\")"
   ]
  },
  {
   "cell_type": "markdown",
   "id": "2c873780",
   "metadata": {},
   "source": [
    "##### {} 안에 값의 순서를 지정하는 숫자를 넣을 수도 있다. 가장 앞에 있는 값은 {0}, 그 뒤의 값은 {1}, 이런 식으로 지정한다. 이 방법을 사용하면 값의 순서를 바꾸거나 같은 값을 여러번 인쇄할 수도 있다."
   ]
  },
  {
   "cell_type": "code",
   "execution_count": 17,
   "id": "193fd7bc",
   "metadata": {},
   "outputs": [
    {
     "data": {
      "text/plain": [
       "'철수의 수학 점수는 100 점 입니다. 100점! 100점!'"
      ]
     },
     "execution_count": 17,
     "metadata": {},
     "output_type": "execute_result"
    }
   ],
   "source": [
    "\"{2}의 {0} 점수는 {1} 점 입니다. {1}점! {1}점!\".format(\"수학\", 100, \"철수\")"
   ]
  },
  {
   "cell_type": "code",
   "execution_count": 18,
   "id": "0b53b482",
   "metadata": {},
   "outputs": [
    {
     "data": {
      "text/plain": [
       "'영어점수 : 100점, 수학점수 : 90점'"
      ]
     },
     "execution_count": 18,
     "metadata": {},
     "output_type": "execute_result"
    }
   ],
   "source": [
    "# 순서를 나타내는 숫자 대신 인수 이름을 지정할 수도 있습니다.\n",
    "\"{a}점수 : {x}점, {b}점수 : {y}점\".format(a = \"영어\", b = \"수학\", x = 100, y = 90)"
   ]
  },
  {
   "cell_type": "code",
   "execution_count": 19,
   "id": "83e4b83b",
   "metadata": {},
   "outputs": [
    {
     "data": {
      "text/plain": [
       "'영어점수 : 100점, 수학점수 : 90점'"
      ]
     },
     "execution_count": 19,
     "metadata": {},
     "output_type": "execute_result"
    }
   ],
   "source": [
    "\"{}점수 : {}점, {}점수 : {}점\".format(\"영어\", 100, \"수학\", 90)"
   ]
  },
  {
   "cell_type": "markdown",
   "id": "a5a7d8b6",
   "metadata": {},
   "source": [
    "##### format 방식에서 공백의 크기를 지정하거나 부동소수점의 소수점 아래 숫자를 지정할 때는 {}안에 : 기호를 넣고 그 뒤에 고급 형식지정 문자열을 넣는다. : 뒤에 오는 숫자는 공백의 크기를 뜻한다. <는 값을 앞쪽으로 붙이고 공백을 뒤로 붙인다. 반대로 >는 값을 앞쪽으로 붙이고 공백을 뒤로 붙인다. 소숫점의 자릿수를 지정할 때는 .(점)과 숫자, 그리고 f 글자를 사용한다. , 기호를 넣으면 영미권에서 숫자를 쓸 때 천(1000)단위마다 붙이는 쉼표(thousand comma)를 붙인다."
   ]
  },
  {
   "cell_type": "markdown",
   "id": "b829f9a6",
   "metadata": {},
   "source": [
    "##### {:>10}     =>    전체 10칸을 차지하며 공백을 앞에 붙임 (문자열을 오른쪽에 붙여서 출력)\n",
    "##### {:<10}     =>    전체 10칸을 차지하며 공백을 뒤에 붙임 (문자열을 왼쪽에 붙여서 출력)\n",
    "##### {:^10}     =>    전체10칸을 차지하며 공백을 앞뒤에 붙임 (문자열을 중아에 붙여서 출력)\n",
    "##### {:.5f}       =>    부동소수점의 소수점 아래 5자리까지 표시\n",
    "##### {:,}          =>    천단위 쉼표 표시"
   ]
  },
  {
   "cell_type": "code",
   "execution_count": 20,
   "id": "e9a409c6",
   "metadata": {},
   "outputs": [
    {
     "data": {
      "text/plain": [
       "'[*                   ]'"
      ]
     },
     "execution_count": 20,
     "metadata": {},
     "output_type": "execute_result"
    }
   ],
   "source": [
    "\"[{:<20}]\".format(\"*\")"
   ]
  },
  {
   "cell_type": "code",
   "execution_count": 21,
   "id": "93f8300b",
   "metadata": {},
   "outputs": [
    {
     "data": {
      "text/plain": [
       "'[                   *]'"
      ]
     },
     "execution_count": 21,
     "metadata": {},
     "output_type": "execute_result"
    }
   ],
   "source": [
    "\"[{:>20}]\".format(\"*\")"
   ]
  },
  {
   "cell_type": "code",
   "execution_count": 23,
   "id": "804ee21d",
   "metadata": {},
   "outputs": [
    {
     "data": {
      "text/plain": [
       "'[         *          ]'"
      ]
     },
     "execution_count": 23,
     "metadata": {},
     "output_type": "execute_result"
    }
   ],
   "source": [
    "\"[{:^20}]\".format(\"*\")"
   ]
  },
  {
   "cell_type": "code",
   "execution_count": 25,
   "id": "03fcb1e8",
   "metadata": {},
   "outputs": [
    {
     "data": {
      "text/plain": [
       "'[             0.33333]'"
      ]
     },
     "execution_count": 25,
     "metadata": {},
     "output_type": "execute_result"
    }
   ],
   "source": [
    "\"[{:20.5f}]\".format(1 / 3)"
   ]
  },
  {
   "cell_type": "code",
   "execution_count": 31,
   "id": "7b64b1c7",
   "metadata": {},
   "outputs": [
    {
     "data": {
      "text/plain": [
       "'[       1,234,567,890]'"
      ]
     },
     "execution_count": 31,
     "metadata": {},
     "output_type": "execute_result"
    }
   ],
   "source": [
    "\"[{:20,}]\".format(1234567890)"
   ]
  },
  {
   "cell_type": "markdown",
   "id": "41f2d526",
   "metadata": {},
   "source": [
    "### 만약 > 기호 앞에 문자열을 쓰면 해당 문자열로 공백을 채운다"
   ]
  },
  {
   "cell_type": "markdown",
   "id": "d32633fa",
   "metadata": {},
   "source": [
    "##### {:*>10}          =>    전체 10칸을 차지하며 \"*\"을 앞에 붙임 (문자열을 오른쪽에 붙여서 출력)\n",
    "##### {:*<10}          =>    전체 10칸을 차지하며 \"*\"을 뒤에 붙임 (문자열을 왼쪽에 붙여서 출력)\n",
    "##### {:*^10}          =>    전체10칸을 차지하며 \"*\"을 앞뒤에 붙임 (문자열을 중앙에 붙여서 출력)"
   ]
  },
  {
   "cell_type": "code",
   "execution_count": 35,
   "id": "46cad269",
   "metadata": {},
   "outputs": [
    {
     "data": {
      "text/plain": [
       "'[*-------------------]'"
      ]
     },
     "execution_count": 35,
     "metadata": {},
     "output_type": "execute_result"
    }
   ],
   "source": [
    "\"[{:-<20}]\".format(\"*\")"
   ]
  },
  {
   "cell_type": "code",
   "execution_count": 37,
   "id": "1f0671e1",
   "metadata": {},
   "outputs": [
    {
     "data": {
      "text/plain": [
       "'[-------------------*]'"
      ]
     },
     "execution_count": 37,
     "metadata": {},
     "output_type": "execute_result"
    }
   ],
   "source": [
    "\"[{:->20}]\".format(\"*\")"
   ]
  },
  {
   "cell_type": "code",
   "execution_count": 38,
   "id": "833f8878",
   "metadata": {},
   "outputs": [
    {
     "data": {
      "text/plain": [
       "'[---------*----------]'"
      ]
     },
     "execution_count": 38,
     "metadata": {},
     "output_type": "execute_result"
    }
   ],
   "source": [
    "\"[{:-^20}]\".format(\"*\")"
   ]
  },
  {
   "cell_type": "markdown",
   "id": "a1981bb4",
   "metadata": {},
   "source": [
    "##### format 방법의 또다른 특징은 {}안에서 리스트나 사전의 인덱싱을 할수 있다는 것이다."
   ]
  },
  {
   "cell_type": "code",
   "execution_count": 39,
   "id": "71e91897",
   "metadata": {},
   "outputs": [
    {
     "data": {
      "text/plain": [
       "'리스트의 첫 번째 원소 = 10'"
      ]
     },
     "execution_count": 39,
     "metadata": {},
     "output_type": "execute_result"
    }
   ],
   "source": [
    "x = [10, 11, 12]\n",
    "\"리스트의 첫 번째 원소 = {0[0]}\".format(x)"
   ]
  },
  {
   "cell_type": "code",
   "execution_count": 40,
   "id": "476cbf0e",
   "metadata": {},
   "outputs": [
    {
     "data": {
      "text/plain": [
       "'사전의 a키 값 = 10'"
      ]
     },
     "execution_count": 40,
     "metadata": {},
     "output_type": "execute_result"
    }
   ],
   "source": [
    "y = {\"a\" : 10, \"b\" : 11, \"c\" : 12}\n",
    "\"사전의 a키 값 = {0[a]}\".format(y)"
   ]
  },
  {
   "cell_type": "markdown",
   "id": "5ff1becc",
   "metadata": {},
   "source": [
    "# f 문자열"
   ]
  },
  {
   "cell_type": "markdown",
   "id": "8431528c",
   "metadata": {},
   "source": [
    "##### 파이썬 3.6부터는 f 문자열(f-string)이라는 것을 사용할 수 있다. f 문자열은 문자열의 앞에 f 글자를 붙인 문자열이다. f 문자열에서는 {} 안에 변수의 이름을 바로 사용할 수 있다."
   ]
  },
  {
   "cell_type": "code",
   "execution_count": 41,
   "id": "cfeb0aa5",
   "metadata": {},
   "outputs": [
    {
     "name": "stdout",
     "output_type": "stream",
     "text": [
      "홍길동의 나이는 32살이다.\n"
     ]
    }
   ],
   "source": [
    "name = \"홍길동\"\n",
    "age = 32\n",
    "print(f\"{name}의 나이는 {age}살이다.\")"
   ]
  },
  {
   "cell_type": "markdown",
   "id": "cc6d146a",
   "metadata": {},
   "source": [
    "##### f 문자열에서 공백의 크기 등을 지정할 때는 format 방법과 같은 고급 형식지정 문자열을 사용할 수 있다."
   ]
  },
  {
   "cell_type": "code",
   "execution_count": 42,
   "id": "243e80f7",
   "metadata": {},
   "outputs": [],
   "source": [
    "number = 1234567"
   ]
  },
  {
   "cell_type": "code",
   "execution_count": 44,
   "id": "dc7254cf",
   "metadata": {},
   "outputs": [
    {
     "data": {
      "text/plain": [
       "'[ 1234567            ]'"
      ]
     },
     "execution_count": 44,
     "metadata": {},
     "output_type": "execute_result"
    }
   ],
   "source": [
    "f\"[{number : < 20}]\""
   ]
  },
  {
   "cell_type": "code",
   "execution_count": 46,
   "id": "56e89133",
   "metadata": {},
   "outputs": [
    {
     "data": {
      "text/plain": [
       "'[             1234567]'"
      ]
     },
     "execution_count": 46,
     "metadata": {},
     "output_type": "execute_result"
    }
   ],
   "source": [
    "f\"[{number:>20}]\""
   ]
  },
  {
   "cell_type": "code",
   "execution_count": 47,
   "id": "0e83d1fa",
   "metadata": {},
   "outputs": [
    {
     "data": {
      "text/plain": [
       "'[      1234567       ]'"
      ]
     },
     "execution_count": 47,
     "metadata": {},
     "output_type": "execute_result"
    }
   ],
   "source": [
    "f\"[{number:^20}]\""
   ]
  },
  {
   "cell_type": "code",
   "execution_count": 48,
   "id": "a8173fff",
   "metadata": {},
   "outputs": [
    {
     "data": {
      "text/plain": [
       "'[1234567-------------]'"
      ]
     },
     "execution_count": 48,
     "metadata": {},
     "output_type": "execute_result"
    }
   ],
   "source": [
    "f\"[{number:-<20}]\""
   ]
  },
  {
   "cell_type": "code",
   "execution_count": 49,
   "id": "2552a10b",
   "metadata": {},
   "outputs": [
    {
     "data": {
      "text/plain": [
       "'[-------------1234567]'"
      ]
     },
     "execution_count": 49,
     "metadata": {},
     "output_type": "execute_result"
    }
   ],
   "source": [
    "f\"[{number:->20}]\""
   ]
  },
  {
   "cell_type": "code",
   "execution_count": 50,
   "id": "f7a64a3c",
   "metadata": {},
   "outputs": [
    {
     "data": {
      "text/plain": [
       "'[------1234567-------]'"
      ]
     },
     "execution_count": 50,
     "metadata": {},
     "output_type": "execute_result"
    }
   ],
   "source": [
    "f\"[{number:-^20}]\""
   ]
  },
  {
   "cell_type": "code",
   "execution_count": 51,
   "id": "e0c39415",
   "metadata": {},
   "outputs": [
    {
     "data": {
      "text/plain": [
       "'[-----1,234,567------]'"
      ]
     },
     "execution_count": 51,
     "metadata": {},
     "output_type": "execute_result"
    }
   ],
   "source": [
    "f\"[{number:-^20,}]\""
   ]
  },
  {
   "cell_type": "code",
   "execution_count": 52,
   "id": "be24ba5a",
   "metadata": {},
   "outputs": [],
   "source": [
    "f_number = 3.141592"
   ]
  },
  {
   "cell_type": "code",
   "execution_count": 53,
   "id": "f25442e4",
   "metadata": {},
   "outputs": [
    {
     "data": {
      "text/plain": [
       "'[               3.142]'"
      ]
     },
     "execution_count": 53,
     "metadata": {},
     "output_type": "execute_result"
    }
   ],
   "source": [
    "f\"[{f_number:20.3f}]\""
   ]
  },
  {
   "cell_type": "code",
   "execution_count": null,
   "id": "d001537e",
   "metadata": {},
   "outputs": [],
   "source": []
  }
 ],
 "metadata": {
  "kernelspec": {
   "display_name": "Python 3 (ipykernel)",
   "language": "python",
   "name": "python3"
  },
  "language_info": {
   "codemirror_mode": {
    "name": "ipython",
    "version": 3
   },
   "file_extension": ".py",
   "mimetype": "text/x-python",
   "name": "python",
   "nbconvert_exporter": "python",
   "pygments_lexer": "ipython3",
   "version": "3.9.7"
  }
 },
 "nbformat": 4,
 "nbformat_minor": 5
}
