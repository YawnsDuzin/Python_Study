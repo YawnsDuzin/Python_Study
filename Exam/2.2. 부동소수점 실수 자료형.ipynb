{
 "cells": [
  {
   "cell_type": "markdown",
   "id": "90f41083",
   "metadata": {},
   "source": [
    "# 정수와 실수 자료형"
   ]
  },
  {
   "cell_type": "code",
   "execution_count": 1,
   "id": "7af55840",
   "metadata": {},
   "outputs": [
    {
     "data": {
      "text/plain": [
       "10"
      ]
     },
     "execution_count": 1,
     "metadata": {},
     "output_type": "execute_result"
    }
   ],
   "source": [
    "10   # 정수"
   ]
  },
  {
   "cell_type": "code",
   "execution_count": 2,
   "id": "a132a45d",
   "metadata": {},
   "outputs": [
    {
     "data": {
      "text/plain": [
       "10.0"
      ]
     },
     "execution_count": 2,
     "metadata": {},
     "output_type": "execute_result"
    }
   ],
   "source": [
    "10.0   # 실수"
   ]
  },
  {
   "cell_type": "code",
   "execution_count": 3,
   "id": "6a2b4150",
   "metadata": {},
   "outputs": [
    {
     "data": {
      "text/plain": [
       "0.1"
      ]
     },
     "execution_count": 3,
     "metadata": {},
     "output_type": "execute_result"
    }
   ],
   "source": [
    ".1   # .1 = 0.1"
   ]
  },
  {
   "cell_type": "code",
   "execution_count": 4,
   "id": "85719a3f",
   "metadata": {},
   "outputs": [
    {
     "data": {
      "text/plain": [
       "50"
      ]
     },
     "execution_count": 4,
     "metadata": {},
     "output_type": "execute_result"
    }
   ],
   "source": [
    "10 * 5   # 정수"
   ]
  },
  {
   "cell_type": "code",
   "execution_count": 5,
   "id": "69d1f360",
   "metadata": {},
   "outputs": [
    {
     "data": {
      "text/plain": [
       "50.0"
      ]
     },
     "execution_count": 5,
     "metadata": {},
     "output_type": "execute_result"
    }
   ],
   "source": [
    "10.0 * 5   # 실수\n",
    "# 숫자계산을 하는 경우 계산에 쓰인 숫자 중 하나라도 소숫점이 있는 실수가 있으면 계산결과는 실수가 된다."
   ]
  },
  {
   "cell_type": "code",
   "execution_count": 7,
   "id": "5b42eff8",
   "metadata": {},
   "outputs": [
    {
     "data": {
      "text/plain": [
       "2.0"
      ]
     },
     "execution_count": 7,
     "metadata": {},
     "output_type": "execute_result"
    }
   ],
   "source": [
    "10 / 5   # 실수\n",
    "# 나눗셈 연산의 결과는 입력에 상관없이 항상 실수로 처리한다."
   ]
  },
  {
   "cell_type": "code",
   "execution_count": 9,
   "id": "bcb66828",
   "metadata": {},
   "outputs": [
    {
     "data": {
      "text/plain": [
       "int"
      ]
     },
     "execution_count": 9,
     "metadata": {},
     "output_type": "execute_result"
    }
   ],
   "source": [
    "# 파이썬에서는 데이터의 자료형을 알려면 type 명령을 사용한다\n",
    "type(10)"
   ]
  },
  {
   "cell_type": "code",
   "execution_count": 10,
   "id": "606bf880",
   "metadata": {},
   "outputs": [
    {
     "data": {
      "text/plain": [
       "float"
      ]
     },
     "execution_count": 10,
     "metadata": {},
     "output_type": "execute_result"
    }
   ],
   "source": [
    "type(10.0)"
   ]
  },
  {
   "cell_type": "markdown",
   "id": "df8a33c1",
   "metadata": {},
   "source": [
    "# 부동소수점 실수"
   ]
  },
  {
   "cell_type": "markdown",
   "id": "3cb90f35",
   "metadata": {},
   "source": [
    "##### 프로그래밍 언어는 IEEE 754라는 국제표준에 따라 실수를 부동소수점 방식으로 표현한다. 부동소수점 방식에서는 숫자를 정수로 된 유효숫자와 정수로 된 지수의 곱으로 표현한다. 예를 들어 십진수 부동소수점 방식에서 123.456이란 숫자는 123456×10−3 이므로 123456이라는 정수 유효숫자와 −3이라는 정수 지수로 나타낼 수 있다."
   ]
  },
  {
   "cell_type": "markdown",
   "id": "19766ed3",
   "metadata": {},
   "source": [
    "##### 파이썬에서는 유효숫자e지수 라는 방법으로 부동소수점 형태를 직접 표현한다.\n",
    "\n",
    "유효숫자e지수=유효숫자×10지수"
   ]
  },
  {
   "cell_type": "code",
   "execution_count": 12,
   "id": "83603e9f",
   "metadata": {},
   "outputs": [
    {
     "data": {
      "text/plain": [
       "12300.0"
      ]
     },
     "execution_count": 12,
     "metadata": {},
     "output_type": "execute_result"
    }
   ],
   "source": [
    "123e2   # 123e2 = 123.0 * 100 = 12300.0"
   ]
  },
  {
   "cell_type": "code",
   "execution_count": 13,
   "id": "f5d23a6f",
   "metadata": {},
   "outputs": [
    {
     "data": {
      "text/plain": [
       "1.23"
      ]
     },
     "execution_count": 13,
     "metadata": {},
     "output_type": "execute_result"
    }
   ],
   "source": [
    "123e-2   # 123e-2 = 123.0 * 0.01 = 1.23"
   ]
  },
  {
   "cell_type": "code",
   "execution_count": 14,
   "id": "5fe22658",
   "metadata": {},
   "outputs": [
    {
     "data": {
      "text/plain": [
       "0.123456"
      ]
     },
     "execution_count": 14,
     "metadata": {},
     "output_type": "execute_result"
    }
   ],
   "source": [
    "123.456e-3   # 123.456e-3 = 123.456 * 0.001 = 0.123456"
   ]
  },
  {
   "cell_type": "markdown",
   "id": "7dd3ab04",
   "metadata": {},
   "source": [
    "# 십진법과 이진법"
   ]
  },
  {
   "cell_type": "markdown",
   "id": "6494bc16",
   "metadata": {},
   "source": [
    "##### 컴퓨터는 십진법이 아닌 이진법을 사용한다. 십진법에서는 0, 1, 2, 3, 4, 5, 6, 7, 8, 9의 10개 숫자만 사용하고 10 이상의 수는 10,100,1000,10000,… 자리를 나타내는 숫자를 나열하여 표현한다. 따라서 모든 십진법 숫자는 10의 제곱의 합으로 풀어서 나타낼 수 있다."
   ]
  },
  {
   "cell_type": "markdown",
   "id": "efd5c019",
   "metadata": {},
   "source": [
    "##### 이진법에서는 0, 1의 2개 숫자만 사용하고 2 이상의 수는 2,4,8,16,32,… 자리를 나타내는 숫자를 나열하여 표현한다."
   ]
  },
  {
   "cell_type": "code",
   "execution_count": 16,
   "id": "628611bb",
   "metadata": {},
   "outputs": [
    {
     "data": {
      "text/plain": [
       "'0b11'"
      ]
     },
     "execution_count": 16,
     "metadata": {},
     "output_type": "execute_result"
    }
   ],
   "source": [
    "# 파이썬의 bin 명령을 쓰면 정수인 십진수를 이진수로 변환할 수 있다. 이진수는 숫자 앞에 0b라는 접두사가 붙는다.\n",
    "bin(3)"
   ]
  },
  {
   "cell_type": "code",
   "execution_count": 17,
   "id": "e1d55c83",
   "metadata": {},
   "outputs": [
    {
     "data": {
      "text/plain": [
       "'0b1111'"
      ]
     },
     "execution_count": 17,
     "metadata": {},
     "output_type": "execute_result"
    }
   ],
   "source": [
    "bin(15)"
   ]
  },
  {
   "cell_type": "markdown",
   "id": "c79ea814",
   "metadata": {},
   "source": [
    "# 부동소수점 오차"
   ]
  },
  {
   "cell_type": "markdown",
   "id": "7eeb8612",
   "metadata": {},
   "source": [
    "##### 1보다 작은 수의 경우에는 십진법으로 간단히 표현되는 수도 이진법에서는 무한개의 유효숫자를 가질 수 있다. 예를 들어 0.1이라는 숫자는 십진수로는 간단히 표현되지만 이진수로 나타내면 다음과 같이 0011(2)이 무한히 반복되는 실수가 된다.\n",
    "\n",
    "0.1=0.00011001100110011001100110011001100110011001100110011001100110011⋯(2)\n",
    "\n",
    "그런데 컴퓨터에서는 하나의 숫자를 나타내기 위한 메모리 크기가 제한되어 있어서 특정 소수점 이하는 생략하고 가장 비슷한 숫자로 표현할 수 밖에 없다. 0.1은 실제로는 가장 비슷한 다음과 같은 숫자로 저장된다.\n",
    "\n",
    "0.1≈0.1000000000000000055511151231257827021181583404541015625\n",
    "\n",
    "그런데 파이썬 콘솔이나 주피터 노트북에서 0.1을 입력하면 다음과 같이 그냥 0.1로 나타난다."
   ]
  },
  {
   "cell_type": "code",
   "execution_count": 20,
   "id": "d66b8d2b",
   "metadata": {},
   "outputs": [
    {
     "data": {
      "text/plain": [
       "0.1"
      ]
     },
     "execution_count": 20,
     "metadata": {},
     "output_type": "execute_result"
    }
   ],
   "source": [
    "# 그런데 파이썬 콘솔이나 주피터 노트북에서 0.1을 입력하면 다음과 같이 그냥 0.1로 나타난다.\n",
    "0.1"
   ]
  },
  {
   "cell_type": "code",
   "execution_count": 22,
   "id": "15a53b0e",
   "metadata": {},
   "outputs": [
    {
     "data": {
      "text/plain": [
       "'%.55f'"
      ]
     },
     "execution_count": 22,
     "metadata": {},
     "output_type": "execute_result"
    }
   ],
   "source": [
    "# 그 이유는 파이썬 콘솔이나 주피터 노트북과 같은 REPL 인터페이스에서 값이 출력될 때는 편의상 일정 소수점 이하를 생략하고 보여주기 때문이다. \n",
    "# 만약 소수점 이하 55자리까지 보고 싶으면 %precision 매직(magic) 명령어를 사용한다.\n",
    "# 소수점을 55자리까지 표현\n",
    "%precision 55"
   ]
  },
  {
   "cell_type": "code",
   "execution_count": 25,
   "id": "98f3ea87",
   "metadata": {},
   "outputs": [
    {
     "data": {
      "text/plain": [
       "0.1000000000000000055511151231257827021181583404541015625"
      ]
     },
     "execution_count": 25,
     "metadata": {},
     "output_type": "execute_result"
    }
   ],
   "source": [
    "# 이 상태에서 다시 0.1이라고 입력하면 55자리까지의 유효숫자를 보여준다.\n",
    "0.1"
   ]
  },
  {
   "cell_type": "code",
   "execution_count": 26,
   "id": "36df3516",
   "metadata": {},
   "outputs": [
    {
     "data": {
      "text/plain": [
       "'%r'"
      ]
     },
     "execution_count": 26,
     "metadata": {},
     "output_type": "execute_result"
    }
   ],
   "source": [
    "# 다시 원래대로 돌아가려면 다음과 같이 입력한다.\n",
    "%precision %r"
   ]
  },
  {
   "cell_type": "code",
   "execution_count": 27,
   "id": "3006d5f3",
   "metadata": {},
   "outputs": [
    {
     "data": {
      "text/plain": [
       "0.1"
      ]
     },
     "execution_count": 27,
     "metadata": {},
     "output_type": "execute_result"
    }
   ],
   "source": [
    "0.1"
   ]
  },
  {
   "cell_type": "code",
   "execution_count": 28,
   "id": "08eeffa2",
   "metadata": {},
   "outputs": [
    {
     "data": {
      "text/plain": [
       "False"
      ]
     },
     "execution_count": 28,
     "metadata": {},
     "output_type": "execute_result"
    }
   ],
   "source": [
    "# 이처럼 컴퓨터에서 실수를 계산할 때는 항상 미세한 오차를 가질 수 있으므로 실수의 계산을 할 때는 주의해야 한다. \n",
    "# 예를 들어 0.1+0.2=0.3 이지만 파이썬에서 비교하면 다음처럼 양변이 다르다는 결과를 보인다.\n",
    "0.1 + 0.2 == 0.3"
   ]
  },
  {
   "cell_type": "code",
   "execution_count": 29,
   "id": "08d4e2dd",
   "metadata": {},
   "outputs": [
    {
     "data": {
      "text/plain": [
       "0.30000000000000004"
      ]
     },
     "execution_count": 29,
     "metadata": {},
     "output_type": "execute_result"
    }
   ],
   "source": [
    "# 실제로 계산 결과를 보면 그 이유를 알 수 있다.\n",
    "0.1 + 0.2"
   ]
  },
  {
   "cell_type": "code",
   "execution_count": 30,
   "id": "5e8896d6",
   "metadata": {},
   "outputs": [
    {
     "data": {
      "text/plain": [
       "'%.55f'"
      ]
     },
     "execution_count": 30,
     "metadata": {},
     "output_type": "execute_result"
    }
   ],
   "source": [
    "%precision 55"
   ]
  },
  {
   "cell_type": "code",
   "execution_count": 31,
   "id": "bb7325c2",
   "metadata": {},
   "outputs": [
    {
     "data": {
      "text/plain": [
       "0.2999999999999999888977697537484345957636833190917968750"
      ]
     },
     "execution_count": 31,
     "metadata": {},
     "output_type": "execute_result"
    }
   ],
   "source": [
    "0.3"
   ]
  },
  {
   "cell_type": "code",
   "execution_count": 32,
   "id": "274f5f3f",
   "metadata": {},
   "outputs": [
    {
     "data": {
      "text/plain": [
       "'%r'"
      ]
     },
     "execution_count": 32,
     "metadata": {},
     "output_type": "execute_result"
    }
   ],
   "source": [
    "%precision %r"
   ]
  },
  {
   "cell_type": "code",
   "execution_count": 33,
   "id": "253b1822",
   "metadata": {},
   "outputs": [
    {
     "data": {
      "text/plain": [
       "True"
      ]
     },
     "execution_count": 33,
     "metadata": {},
     "output_type": "execute_result"
    }
   ],
   "source": [
    "# 따라서 실수를 비교할 때는 다음과 같이 round 명령을 사용하여 유효숫자를 지정한 반올림을 한 후에 비교해야 한다.\n",
    "# round 명령은 두 번째 인수로 반올림할 소수점 이하의 유효숫자의 개수를 받는다.\n",
    "# 다음 명령은 소수점 5자리까지 비교한다.\n",
    "round(0.1 + 0.2, 5) == round(0.3, 5)"
   ]
  },
  {
   "cell_type": "code",
   "execution_count": 34,
   "id": "5223d96a",
   "metadata": {},
   "outputs": [
    {
     "data": {
      "text/plain": [
       "True"
      ]
     },
     "execution_count": 34,
     "metadata": {},
     "output_type": "execute_result"
    }
   ],
   "source": [
    "round((0.1 + 0.2) - 0.3, 5) == 0.0"
   ]
  },
  {
   "cell_type": "markdown",
   "id": "5372683e",
   "metadata": {},
   "source": [
    "# 자료형 변환"
   ]
  },
  {
   "cell_type": "markdown",
   "id": "72bb0f4d",
   "metadata": {},
   "source": [
    "##### 실수를 정수로 변환하거나 정수를 실수로 변환하려면 int 명령과 float 명령을 사용한다."
   ]
  },
  {
   "cell_type": "code",
   "execution_count": 35,
   "id": "e10f0cb2",
   "metadata": {},
   "outputs": [
    {
     "data": {
      "text/plain": [
       "1"
      ]
     },
     "execution_count": 35,
     "metadata": {},
     "output_type": "execute_result"
    }
   ],
   "source": [
    "int(1.0)   # 실수를 정수로 변환"
   ]
  },
  {
   "cell_type": "code",
   "execution_count": 36,
   "id": "623f824d",
   "metadata": {},
   "outputs": [
    {
     "data": {
      "text/plain": [
       "1.0"
      ]
     },
     "execution_count": 36,
     "metadata": {},
     "output_type": "execute_result"
    }
   ],
   "source": [
    "float(1)   # 정수를 실수로 변환"
   ]
  },
  {
   "cell_type": "code",
   "execution_count": 37,
   "id": "0cbb1bc4",
   "metadata": {},
   "outputs": [
    {
     "data": {
      "text/plain": [
       "3"
      ]
     },
     "execution_count": 37,
     "metadata": {},
     "output_type": "execute_result"
    }
   ],
   "source": [
    "# 만약 정수형으로 변환하려는 숫자가 정확히 정수로 표현될 수 없으면 소숫점 이하의 숫자를 버린다.\n",
    "int(3.14)"
   ]
  },
  {
   "cell_type": "code",
   "execution_count": 38,
   "id": "33c2bcd6",
   "metadata": {},
   "outputs": [
    {
     "data": {
      "text/plain": [
       "3"
      ]
     },
     "execution_count": 38,
     "metadata": {},
     "output_type": "execute_result"
    }
   ],
   "source": [
    "int(3.9)"
   ]
  },
  {
   "cell_type": "code",
   "execution_count": 39,
   "id": "44cd33a4",
   "metadata": {},
   "outputs": [
    {
     "data": {
      "text/plain": [
       "-3"
      ]
     },
     "execution_count": 39,
     "metadata": {},
     "output_type": "execute_result"
    }
   ],
   "source": [
    "int(-3.9)"
   ]
  },
  {
   "cell_type": "markdown",
   "id": "6118ef92",
   "metadata": {},
   "source": [
    "# NaN과 Inf"
   ]
  },
  {
   "cell_type": "markdown",
   "id": "ea5fc542",
   "metadata": {},
   "source": [
    "##### IEEE 754 표준에 따른 부동소수점 자료형은 특별한 두 가지 값을 표현할 수 있다. \n",
    "하나가 NaN(Not a Number)이고 또 하나는 Inf(Infinity)이다. NaN는 “숫자가 아닌 것”, Inf는 “무한대”를 뜻한다.\n",
    "파이썬에서는 다음과 같은 명령으로 표현한다."
   ]
  },
  {
   "cell_type": "code",
   "execution_count": 42,
   "id": "1187d112",
   "metadata": {},
   "outputs": [
    {
     "data": {
      "text/plain": [
       "nan"
      ]
     },
     "execution_count": 42,
     "metadata": {},
     "output_type": "execute_result"
    }
   ],
   "source": [
    "float(\"NaN\")"
   ]
  },
  {
   "cell_type": "code",
   "execution_count": 43,
   "id": "1c51f883",
   "metadata": {},
   "outputs": [
    {
     "data": {
      "text/plain": [
       "inf"
      ]
     },
     "execution_count": 43,
     "metadata": {},
     "output_type": "execute_result"
    }
   ],
   "source": [
    "float(\"Inf\")"
   ]
  },
  {
   "cell_type": "code",
   "execution_count": 44,
   "id": "1ce41125",
   "metadata": {},
   "outputs": [
    {
     "data": {
      "text/plain": [
       "-inf"
      ]
     },
     "execution_count": 44,
     "metadata": {},
     "output_type": "execute_result"
    }
   ],
   "source": [
    "float(\"-Inf\")"
   ]
  }
 ],
 "metadata": {
  "kernelspec": {
   "display_name": "Python 3 (ipykernel)",
   "language": "python",
   "name": "python3"
  },
  "language_info": {
   "codemirror_mode": {
    "name": "ipython",
    "version": 3
   },
   "file_extension": ".py",
   "mimetype": "text/x-python",
   "name": "python",
   "nbconvert_exporter": "python",
   "pygments_lexer": "ipython3",
   "version": "3.9.7"
  }
 },
 "nbformat": 4,
 "nbformat_minor": 5
}
